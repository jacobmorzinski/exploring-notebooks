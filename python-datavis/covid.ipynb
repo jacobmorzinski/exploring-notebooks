{
 "cells": [
  {
   "cell_type": "code",
   "execution_count": 1,
   "metadata": {},
   "outputs": [],
   "source": [
    "import pathlib\n",
    "import urllib.request\n",
    "\n",
    "import pandas as pd\n",
    "import numpy as np\n",
    "import plotly.express as px\n",
    "\n",
    "from IPython.display import display, Pretty\n"
   ]
  },
  {
   "cell_type": "code",
   "execution_count": 2,
   "metadata": {},
   "outputs": [],
   "source": [
    "def get_url_to_file(url, file):\n",
    "    if pathlib.Path(file).exists():\n",
    "        return\n",
    "    with urllib.request.urlopen(url) as instream:\n",
    "        with open(file, \"wb\") as outstream:\n",
    "            bs = 1024*8\n",
    "            while True:\n",
    "                block = instream.read(bs)\n",
    "                if not block:\n",
    "                    break\n",
    "                outstream.write(block)\n"
   ]
  },
  {
   "cell_type": "code",
   "execution_count": 3,
   "metadata": {},
   "outputs": [
    {
     "data": {
      "text/plain": [
       "Got CSV files."
      ]
     },
     "metadata": {},
     "output_type": "display_data"
    }
   ],
   "source": [
    "\n",
    "display_handle = display(Pretty(\"Getting data...\"), display_id=True)\n",
    "\n",
    "display_handle.update(Pretty(\"Getting confirmed_global.csv...\"))\n",
    "get_url_to_file(\n",
    "    \"https://github.com/CSSEGISandData/COVID-19/raw/master/csse_covid_19_data/csse_covid_19_time_series/time_series_covid19_confirmed_global.csv\",\n",
    "    \"confirmed_global.csv\"\n",
    "    )\n",
    "display_handle.update(Pretty(\"Got confirmed_global.csv\"))\n",
    "\n",
    "display_handle.update(Pretty(\"Getting deaths_global.csv...\"))\n",
    "get_url_to_file(\n",
    "    \"https://github.com/CSSEGISandData/COVID-19/raw/master/csse_covid_19_data/csse_covid_19_time_series/time_series_covid19_deaths_global.csv\",\n",
    "    \"deaths_global.csv\"\n",
    "    )\n",
    "display_handle.update(Pretty(\"Got deaths_global.csv\"))\n",
    "\n",
    "display_handle.update(Pretty(\"Getting recovered_global.csv...\"))\n",
    "get_url_to_file(\n",
    "    \"https://github.com/CSSEGISandData/COVID-19/raw/master/csse_covid_19_data/csse_covid_19_time_series/time_series_covid19_recovered_global.csv\",\n",
    "    \"recovered_global.csv\"\n",
    "    )\n",
    "display_handle.update(Pretty(\"Got recovered_global.csv\"))\n",
    "display_handle.update(Pretty(\"Got CSV files.\"))\n"
   ]
  },
  {
   "cell_type": "code",
   "execution_count": 4,
   "metadata": {},
   "outputs": [],
   "source": [
    "deaths = pd.read_csv(\"deaths_global.csv\")\n",
    "confirmed = pd.read_csv(\"confirmed_global.csv\")\n",
    "recovered = pd.read_csv(\"recovered_global.csv\")"
   ]
  },
  {
   "cell_type": "code",
   "execution_count": 5,
   "metadata": {},
   "outputs": [],
   "source": [
    "offset = 4\n",
    "series = []"
   ]
  },
  {
   "cell_type": "code",
   "execution_count": 6,
   "metadata": {},
   "outputs": [
    {
     "data": {
      "text/plain": [
       "Done!"
      ]
     },
     "metadata": {},
     "output_type": "display_data"
    }
   ],
   "source": [
    "# Reshape the data\n",
    "# Original data has many date columns.\n",
    "# For each date, find cells with non-zero values,\n",
    "# and get the lat/long (and value)\n",
    "\n",
    "display_handle = display(Pretty(\"processing data\"), display_id=True)\n",
    "\n",
    "for i in range(4, len(deaths.columns)):\n",
    "    date = (deaths.columns)[i]\n",
    "    # we consider all rows in column [i], wanting ones where value != 0\n",
    "    deaths_bool = (deaths.iloc[:,i] != 0)\n",
    "    deaths_filtered = deaths[deaths_bool][[\"Lat\",\"Long\",(deaths.columns)[i]]]\n",
    "    confirmed_bool = (confirmed.iloc[:,i] != 0)\n",
    "    confirmed_filtered = deaths[confirmed_bool][[\"Lat\",\"Long\",(confirmed.columns)[i]]]\n",
    "    recovered_bool = (recovered.iloc[:,i] != 0)\n",
    "    recovered_filtered = recovered[recovered_bool][[\"Lat\",\"Long\",(recovered.columns)[i]]]\n",
    "\n",
    "    display_handle.update(Pretty(\"processing %s\" % date))\n",
    "\n",
    "    data = {\n",
    "        \"date\": date,\n",
    "        \"death_series\": deaths_filtered,\n",
    "        \"confirmed_series\": confirmed_filtered,\n",
    "        \"recovered_series\": recovered_filtered,\n",
    "        }\n",
    "\n",
    "    series.append(data)\n",
    "\n",
    "display_handle.update(Pretty(\"Done!\"))\n"
   ]
  },
  {
   "cell_type": "code",
   "execution_count": 7,
   "metadata": {},
   "outputs": [],
   "source": [
    "vals = series[120][\"recovered_series\"].iloc[:,-1]"
   ]
  },
  {
   "cell_type": "code",
   "execution_count": 8,
   "metadata": {},
   "outputs": [
    {
     "data": {
      "text/plain": [
       "'5/21/20'"
      ]
     },
     "execution_count": 8,
     "metadata": {},
     "output_type": "execute_result"
    }
   ],
   "source": [
    "series[120][\"date\"]"
   ]
  },
  {
   "cell_type": "code",
   "execution_count": 9,
   "metadata": {},
   "outputs": [
    {
     "data": {
      "application/vnd.plotly.v1+json": {
       "config": {
        "plotlyServerURL": "https://plot.ly"
       },
       "data": [
        {
         "geo": "geo",
         "hovertemplate": "%{text}",
         "lat": [
          33.93911,
          41.1533,
          28.0339,
          42.5063,
          -11.2027,
          17.0608,
          -38.4161,
          40.0691,
          -35.4735,
          -33.8688,
          -12.4634,
          -27.4698,
          -34.9285,
          -42.8821,
          -37.8136,
          -31.9505,
          47.5162,
          40.1431,
          25.025885,
          26.0275,
          23.685,
          13.1939,
          53.7098,
          50.8333,
          17.1899,
          9.3077,
          27.5142,
          -16.2902,
          43.9159,
          -22.3285,
          -14.235,
          4.5353,
          42.7339,
          12.2383,
          21.9162,
          -3.3731,
          16.5388,
          11.55,
          3.848,
          56.1304,
          6.6111,
          15.4542,
          -35.6751,
          31.8257,
          40.1824,
          30.0572,
          26.0789,
          35.7518,
          23.3417,
          23.8298,
          26.8154,
          19.1959,
          37.8957,
          47.862,
          33.882,
          22.3,
          30.9756,
          27.6104,
          44.0935,
          32.9711,
          27.614,
          43.6661,
          41.2956,
          22.1667,
          37.2692,
          35.7452,
          35.1917,
          36.3427,
          31.202,
          37.5777,
          30.6171,
          39.3054,
          31.6927,
          41.1129,
          24.974,
          29.1832,
          4.5709,
          -11.6455,
          -0.228,
          -4.0383,
          9.7489,
          7.54,
          45.1,
          21.521757,
          35.1264,
          49.8175,
          61.8926,
          71.7069,
          56.2639,
          0,
          11.8251,
          15.415,
          18.7357,
          -1.8312,
          26.820553,
          13.7942,
          1.6508,
          15.1794,
          58.5953,
          -26.5225,
          9.145,
          -17.7134,
          61.92411,
          3.9339,
          -17.6797,
          16.265,
          14.6415,
          -12.8275,
          -20.904305,
          -21.1151,
          17.9,
          46.8852,
          18.0708,
          46.2276,
          -0.8037,
          13.4432,
          42.3154,
          51.165691,
          7.9465,
          39.0742,
          12.1165,
          15.7835,
          9.9456,
          11.8037,
          4.860416,
          18.9712,
          41.9029,
          15.2,
          47.1625,
          64.9631,
          20.593684,
          -0.7893,
          32.427908,
          33.223191,
          53.1424,
          31.046051,
          41.87194,
          18.1096,
          36.204824,
          31.24,
          48.0196,
          -0.0236,
          35.907757,
          42.602636,
          29.31166,
          41.20438,
          19.85627,
          56.8796,
          33.8547,
          6.428055,
          26.3351,
          47.14,
          55.1694,
          49.8153,
          -18.766947,
          -13.2543,
          4.210484,
          3.2028,
          17.570692,
          35.9375,
          21.0079,
          -20.348404,
          23.6345,
          47.4116,
          43.7333,
          46.8625,
          42.708678,
          31.7917,
          -18.6657,
          -22.9576,
          28.1667,
          12.5211,
          12.1784,
          12.1696,
          18.0425,
          -40.9006,
          12.865416,
          17.607789,
          9.082,
          41.6086,
          60.472,
          21.512583,
          30.3753,
          8.538,
          -6.314993,
          -23.4425,
          -9.19,
          12.879721,
          51.9194,
          39.3999,
          25.3548,
          45.9432,
          61.52401,
          -1.9403,
          17.357822,
          13.9094,
          12.9843,
          43.9424,
          0.1864,
          23.885942,
          14.4974,
          44.0165,
          -4.6796,
          8.460555,
          1.2833,
          48.669,
          46.1512,
          5.152149,
          -30.5595,
          6.877,
          40.463667,
          7.873054,
          12.8628,
          3.9193,
          46.8182,
          34.8021,
          23.7,
          38.861,
          -6.369028,
          15.870032,
          -8.8742,
          8.6195,
          10.6918,
          33.886917,
          38.9637,
          40,
          1.373333,
          48.3794,
          23.424076,
          18.2206,
          32.3078,
          18.4207,
          19.3133,
          49.3723,
          -51.7963,
          36.1408,
          54.2361,
          16.742498,
          21.694,
          -32.5228,
          41.377491,
          6.4238,
          14.058324,
          31.9522,
          15.552727,
          -13.133897,
          -19.015438
         ],
         "legendgroup": "",
         "lon": [
          67.709953,
          20.1683,
          1.6596,
          1.5218,
          17.8739,
          -61.7964,
          -63.6167,
          45.0382,
          149.0124,
          151.2093,
          130.8456,
          153.0251,
          138.6007,
          147.3272,
          144.9631,
          115.8605,
          14.5501,
          47.5769,
          -78.035889,
          50.55,
          90.3563,
          -59.5432,
          27.9534,
          4.469936,
          -88.4976,
          2.3158,
          90.4336,
          -63.5887,
          17.6791,
          24.6849,
          -51.9253,
          114.7277,
          25.4858,
          -1.5616,
          95.956,
          29.9189,
          -23.0418,
          104.9167,
          11.5021,
          -106.3468,
          20.9394,
          18.7322,
          -71.543,
          117.2264,
          116.4142,
          107.874,
          117.9874,
          104.2861,
          113.4244,
          108.7881,
          106.8748,
          109.7453,
          114.9042,
          127.7615,
          113.614,
          114.2,
          112.2707,
          111.7088,
          113.9448,
          119.455,
          115.7221,
          126.1923,
          122.6085,
          113.55,
          106.1655,
          95.9956,
          108.8701,
          118.1498,
          121.4491,
          112.2922,
          102.7103,
          117.323,
          88.0924,
          85.2401,
          101.487,
          120.0934,
          -74.2973,
          43.3333,
          15.8277,
          21.7587,
          -83.7534,
          -5.5471,
          15.2,
          -77.781167,
          33.4299,
          15.473,
          -6.9118,
          -42.6043,
          9.5018,
          0,
          42.5903,
          -61.371,
          -70.1627,
          -78.1834,
          30.802498,
          -88.8965,
          10.2679,
          39.7823,
          25.0136,
          31.4659,
          40.4897,
          178.065,
          25.748151,
          -53.1258,
          149.4068,
          -61.551,
          -61.0242,
          45.166244,
          165.618042,
          55.5364,
          -62.8333,
          -56.3159,
          -63.0501,
          2.2137,
          11.6094,
          -15.3101,
          43.3569,
          10.451526,
          -1.0232,
          21.8243,
          -61.679,
          -90.2308,
          -9.6966,
          -15.1804,
          -58.93018,
          -72.2852,
          12.4534,
          -86.2419,
          19.5033,
          -19.0208,
          78.96288,
          113.9213,
          53.688046,
          43.679291,
          -7.6921,
          34.851612,
          12.56738,
          -77.2975,
          138.252924,
          36.51,
          66.9237,
          37.9062,
          127.766922,
          20.902977,
          47.481766,
          74.766098,
          102.495496,
          24.6032,
          35.8623,
          -9.429499,
          17.228331,
          9.55,
          23.8813,
          6.1296,
          46.869107,
          34.3015,
          101.975766,
          73.2207,
          -3.996166,
          14.3754,
          -10.9408,
          57.552152,
          -102.5528,
          28.3699,
          7.4167,
          103.8467,
          19.37439,
          -7.0926,
          35.5296,
          18.4904,
          84.25,
          -69.9683,
          -68.2385,
          -68.99,
          -63.0548,
          174.886,
          -85.207229,
          8.081666,
          8.6753,
          21.7453,
          8.4689,
          55.923255,
          69.3451,
          -80.7821,
          143.95555,
          -58.4438,
          -75.0152,
          121.774017,
          19.1451,
          -8.2245,
          51.1839,
          24.9668,
          105.318756,
          29.8739,
          -62.782998,
          -60.9789,
          -61.2872,
          12.4578,
          6.6131,
          45.079162,
          -14.4524,
          21.0059,
          55.492,
          -11.779889,
          103.8333,
          19.699,
          14.9955,
          46.199616,
          22.9375,
          31.307,
          -3.74922,
          80.771797,
          30.2176,
          -56.0278,
          8.2275,
          38.9968,
          121,
          71.2761,
          34.888822,
          100.992541,
          125.7275,
          0.8248,
          -61.2225,
          9.537499,
          35.2433,
          -100,
          32.290275,
          31.1656,
          53.847818,
          -63.0686,
          -64.7505,
          -64.64,
          -81.2546,
          -2.3644,
          -59.5236,
          -5.3536,
          -4.5481,
          -62.187366,
          -71.7979,
          -55.7658,
          64.585262,
          -66.5897,
          108.277199,
          35.2332,
          48.516388,
          27.849332,
          29.154857
         ],
         "marker": {
          "color": "#DC7633",
          "symbol": "diamond"
         },
         "mode": "markers",
         "name": "Recovered",
         "showlegend": false,
         "text": [
          938,
          771,
          4062,
          639,
          17,
          19,
          3032,
          2581,
          104,
          2648,
          29,
          1040,
          435,
          198,
          1479,
          545,
          14951,
          2340,
          44,
          3873,
          5602,
          70,
          12057,
          14988,
          16,
          61,
          6,
          561,
          1596,
          19,
          125960,
          136,
          727,
          669,
          108,
          20,
          95,
          122,
          1808,
          41731,
          18,
          186,
          23992,
          985,
          578,
          573,
          355,
          137,
          1579,
          252,
          145,
          162,
          322,
          932,
          1254,
          1025,
          63616,
          1015,
          196,
          653,
          936,
          123,
          144,
          44,
          75,
          18,
          303,
          780,
          641,
          198,
          558,
          187,
          1,
          73,
          183,
          1267,
          4431,
          8,
          137,
          303,
          592,
          1100,
          1978,
          1603,
          561,
          5926,
          187,
          11,
          9643,
          651,
          1055,
          16,
          7366,
          3557,
          4217,
          544,
          22,
          39,
          1488,
          112,
          123,
          15,
          4800,
          137,
          60,
          109,
          91,
          894,
          18,
          411,
          6,
          1,
          33,
          62216,
          365,
          13,
          485,
          158087,
          1898,
          1374,
          17,
          222,
          1575,
          42,
          57,
          21,
          2,
          397,
          1509,
          1790,
          48553,
          4838,
          100564,
          2483,
          21060,
          13780,
          134560,
          181,
          12672,
          457,
          3843,
          375,
          10162,
          772,
          5205,
          923,
          14,
          694,
          663,
          131,
          35,
          81,
          1189,
          3741,
          131,
          27,
          5795,
          91,
          558,
          468,
          7,
          322,
          40152,
          2953,
          90,
          26,
          314,
          4280,
          48,
          14,
          49,
          95,
          6,
          14,
          54,
          1455,
          199,
          753,
          1907,
          1378,
          32,
          1821,
          15201,
          6245,
          8,
          256,
          43587,
          3000,
          8452,
          6452,
          7288,
          10581,
          92681,
          217,
          15,
          18,
          14,
          235,
          4,
          36040,
          1251,
          5370,
          11,
          205,
          12117,
          1245,
          1340,
          204,
          8950,
          4,
          150376,
          604,
          309,
          9,
          27900,
          36,
          398,
          470,
          183,
          2897,
          24,
          118,
          108,
          883,
          114990,
          298418,
          66,
          6227,
          12755,
          3,
          80,
          6,
          55,
          508,
          13,
          146,
          303,
          10,
          10,
          594,
          2407,
          262,
          266,
          346,
          5,
          302,
          18
         ],
         "type": "scattergeo"
        }
       ],
       "layout": {
        "font": {
         "color": "rgb(240,240,240)"
        },
        "geo": {
         "bgcolor": "rgb(90,90,90)",
         "center": {},
         "domain": {
          "x": [
           0,
           1
          ],
          "y": [
           0,
           1
          ]
         },
         "landcolor": "rgb(250,250,250)",
         "scope": "world",
         "showcountries": true,
         "showland": true
        },
        "legend": {
         "tracegroupgap": 0
        },
        "margin": {
         "t": 60
        },
        "paper_bgcolor": "rgb(60,60,60)",
        "template": {
         "data": {
          "bar": [
           {
            "error_x": {
             "color": "#2a3f5f"
            },
            "error_y": {
             "color": "#2a3f5f"
            },
            "marker": {
             "line": {
              "color": "#E5ECF6",
              "width": 0.5
             },
             "pattern": {
              "fillmode": "overlay",
              "size": 10,
              "solidity": 0.2
             }
            },
            "type": "bar"
           }
          ],
          "barpolar": [
           {
            "marker": {
             "line": {
              "color": "#E5ECF6",
              "width": 0.5
             },
             "pattern": {
              "fillmode": "overlay",
              "size": 10,
              "solidity": 0.2
             }
            },
            "type": "barpolar"
           }
          ],
          "carpet": [
           {
            "aaxis": {
             "endlinecolor": "#2a3f5f",
             "gridcolor": "white",
             "linecolor": "white",
             "minorgridcolor": "white",
             "startlinecolor": "#2a3f5f"
            },
            "baxis": {
             "endlinecolor": "#2a3f5f",
             "gridcolor": "white",
             "linecolor": "white",
             "minorgridcolor": "white",
             "startlinecolor": "#2a3f5f"
            },
            "type": "carpet"
           }
          ],
          "choropleth": [
           {
            "colorbar": {
             "outlinewidth": 0,
             "ticks": ""
            },
            "type": "choropleth"
           }
          ],
          "contour": [
           {
            "colorbar": {
             "outlinewidth": 0,
             "ticks": ""
            },
            "colorscale": [
             [
              0,
              "#0d0887"
             ],
             [
              0.1111111111111111,
              "#46039f"
             ],
             [
              0.2222222222222222,
              "#7201a8"
             ],
             [
              0.3333333333333333,
              "#9c179e"
             ],
             [
              0.4444444444444444,
              "#bd3786"
             ],
             [
              0.5555555555555556,
              "#d8576b"
             ],
             [
              0.6666666666666666,
              "#ed7953"
             ],
             [
              0.7777777777777778,
              "#fb9f3a"
             ],
             [
              0.8888888888888888,
              "#fdca26"
             ],
             [
              1,
              "#f0f921"
             ]
            ],
            "type": "contour"
           }
          ],
          "contourcarpet": [
           {
            "colorbar": {
             "outlinewidth": 0,
             "ticks": ""
            },
            "type": "contourcarpet"
           }
          ],
          "heatmap": [
           {
            "colorbar": {
             "outlinewidth": 0,
             "ticks": ""
            },
            "colorscale": [
             [
              0,
              "#0d0887"
             ],
             [
              0.1111111111111111,
              "#46039f"
             ],
             [
              0.2222222222222222,
              "#7201a8"
             ],
             [
              0.3333333333333333,
              "#9c179e"
             ],
             [
              0.4444444444444444,
              "#bd3786"
             ],
             [
              0.5555555555555556,
              "#d8576b"
             ],
             [
              0.6666666666666666,
              "#ed7953"
             ],
             [
              0.7777777777777778,
              "#fb9f3a"
             ],
             [
              0.8888888888888888,
              "#fdca26"
             ],
             [
              1,
              "#f0f921"
             ]
            ],
            "type": "heatmap"
           }
          ],
          "heatmapgl": [
           {
            "colorbar": {
             "outlinewidth": 0,
             "ticks": ""
            },
            "colorscale": [
             [
              0,
              "#0d0887"
             ],
             [
              0.1111111111111111,
              "#46039f"
             ],
             [
              0.2222222222222222,
              "#7201a8"
             ],
             [
              0.3333333333333333,
              "#9c179e"
             ],
             [
              0.4444444444444444,
              "#bd3786"
             ],
             [
              0.5555555555555556,
              "#d8576b"
             ],
             [
              0.6666666666666666,
              "#ed7953"
             ],
             [
              0.7777777777777778,
              "#fb9f3a"
             ],
             [
              0.8888888888888888,
              "#fdca26"
             ],
             [
              1,
              "#f0f921"
             ]
            ],
            "type": "heatmapgl"
           }
          ],
          "histogram": [
           {
            "marker": {
             "pattern": {
              "fillmode": "overlay",
              "size": 10,
              "solidity": 0.2
             }
            },
            "type": "histogram"
           }
          ],
          "histogram2d": [
           {
            "colorbar": {
             "outlinewidth": 0,
             "ticks": ""
            },
            "colorscale": [
             [
              0,
              "#0d0887"
             ],
             [
              0.1111111111111111,
              "#46039f"
             ],
             [
              0.2222222222222222,
              "#7201a8"
             ],
             [
              0.3333333333333333,
              "#9c179e"
             ],
             [
              0.4444444444444444,
              "#bd3786"
             ],
             [
              0.5555555555555556,
              "#d8576b"
             ],
             [
              0.6666666666666666,
              "#ed7953"
             ],
             [
              0.7777777777777778,
              "#fb9f3a"
             ],
             [
              0.8888888888888888,
              "#fdca26"
             ],
             [
              1,
              "#f0f921"
             ]
            ],
            "type": "histogram2d"
           }
          ],
          "histogram2dcontour": [
           {
            "colorbar": {
             "outlinewidth": 0,
             "ticks": ""
            },
            "colorscale": [
             [
              0,
              "#0d0887"
             ],
             [
              0.1111111111111111,
              "#46039f"
             ],
             [
              0.2222222222222222,
              "#7201a8"
             ],
             [
              0.3333333333333333,
              "#9c179e"
             ],
             [
              0.4444444444444444,
              "#bd3786"
             ],
             [
              0.5555555555555556,
              "#d8576b"
             ],
             [
              0.6666666666666666,
              "#ed7953"
             ],
             [
              0.7777777777777778,
              "#fb9f3a"
             ],
             [
              0.8888888888888888,
              "#fdca26"
             ],
             [
              1,
              "#f0f921"
             ]
            ],
            "type": "histogram2dcontour"
           }
          ],
          "mesh3d": [
           {
            "colorbar": {
             "outlinewidth": 0,
             "ticks": ""
            },
            "type": "mesh3d"
           }
          ],
          "parcoords": [
           {
            "line": {
             "colorbar": {
              "outlinewidth": 0,
              "ticks": ""
             }
            },
            "type": "parcoords"
           }
          ],
          "pie": [
           {
            "automargin": true,
            "type": "pie"
           }
          ],
          "scatter": [
           {
            "fillpattern": {
             "fillmode": "overlay",
             "size": 10,
             "solidity": 0.2
            },
            "type": "scatter"
           }
          ],
          "scatter3d": [
           {
            "line": {
             "colorbar": {
              "outlinewidth": 0,
              "ticks": ""
             }
            },
            "marker": {
             "colorbar": {
              "outlinewidth": 0,
              "ticks": ""
             }
            },
            "type": "scatter3d"
           }
          ],
          "scattercarpet": [
           {
            "marker": {
             "colorbar": {
              "outlinewidth": 0,
              "ticks": ""
             }
            },
            "type": "scattercarpet"
           }
          ],
          "scattergeo": [
           {
            "marker": {
             "colorbar": {
              "outlinewidth": 0,
              "ticks": ""
             }
            },
            "type": "scattergeo"
           }
          ],
          "scattergl": [
           {
            "marker": {
             "colorbar": {
              "outlinewidth": 0,
              "ticks": ""
             }
            },
            "type": "scattergl"
           }
          ],
          "scattermapbox": [
           {
            "marker": {
             "colorbar": {
              "outlinewidth": 0,
              "ticks": ""
             }
            },
            "type": "scattermapbox"
           }
          ],
          "scatterpolar": [
           {
            "marker": {
             "colorbar": {
              "outlinewidth": 0,
              "ticks": ""
             }
            },
            "type": "scatterpolar"
           }
          ],
          "scatterpolargl": [
           {
            "marker": {
             "colorbar": {
              "outlinewidth": 0,
              "ticks": ""
             }
            },
            "type": "scatterpolargl"
           }
          ],
          "scatterternary": [
           {
            "marker": {
             "colorbar": {
              "outlinewidth": 0,
              "ticks": ""
             }
            },
            "type": "scatterternary"
           }
          ],
          "surface": [
           {
            "colorbar": {
             "outlinewidth": 0,
             "ticks": ""
            },
            "colorscale": [
             [
              0,
              "#0d0887"
             ],
             [
              0.1111111111111111,
              "#46039f"
             ],
             [
              0.2222222222222222,
              "#7201a8"
             ],
             [
              0.3333333333333333,
              "#9c179e"
             ],
             [
              0.4444444444444444,
              "#bd3786"
             ],
             [
              0.5555555555555556,
              "#d8576b"
             ],
             [
              0.6666666666666666,
              "#ed7953"
             ],
             [
              0.7777777777777778,
              "#fb9f3a"
             ],
             [
              0.8888888888888888,
              "#fdca26"
             ],
             [
              1,
              "#f0f921"
             ]
            ],
            "type": "surface"
           }
          ],
          "table": [
           {
            "cells": {
             "fill": {
              "color": "#EBF0F8"
             },
             "line": {
              "color": "white"
             }
            },
            "header": {
             "fill": {
              "color": "#C8D4E3"
             },
             "line": {
              "color": "white"
             }
            },
            "type": "table"
           }
          ]
         },
         "layout": {
          "annotationdefaults": {
           "arrowcolor": "#2a3f5f",
           "arrowhead": 0,
           "arrowwidth": 1
          },
          "autotypenumbers": "strict",
          "coloraxis": {
           "colorbar": {
            "outlinewidth": 0,
            "ticks": ""
           }
          },
          "colorscale": {
           "diverging": [
            [
             0,
             "#8e0152"
            ],
            [
             0.1,
             "#c51b7d"
            ],
            [
             0.2,
             "#de77ae"
            ],
            [
             0.3,
             "#f1b6da"
            ],
            [
             0.4,
             "#fde0ef"
            ],
            [
             0.5,
             "#f7f7f7"
            ],
            [
             0.6,
             "#e6f5d0"
            ],
            [
             0.7,
             "#b8e186"
            ],
            [
             0.8,
             "#7fbc41"
            ],
            [
             0.9,
             "#4d9221"
            ],
            [
             1,
             "#276419"
            ]
           ],
           "sequential": [
            [
             0,
             "#0d0887"
            ],
            [
             0.1111111111111111,
             "#46039f"
            ],
            [
             0.2222222222222222,
             "#7201a8"
            ],
            [
             0.3333333333333333,
             "#9c179e"
            ],
            [
             0.4444444444444444,
             "#bd3786"
            ],
            [
             0.5555555555555556,
             "#d8576b"
            ],
            [
             0.6666666666666666,
             "#ed7953"
            ],
            [
             0.7777777777777778,
             "#fb9f3a"
            ],
            [
             0.8888888888888888,
             "#fdca26"
            ],
            [
             1,
             "#f0f921"
            ]
           ],
           "sequentialminus": [
            [
             0,
             "#0d0887"
            ],
            [
             0.1111111111111111,
             "#46039f"
            ],
            [
             0.2222222222222222,
             "#7201a8"
            ],
            [
             0.3333333333333333,
             "#9c179e"
            ],
            [
             0.4444444444444444,
             "#bd3786"
            ],
            [
             0.5555555555555556,
             "#d8576b"
            ],
            [
             0.6666666666666666,
             "#ed7953"
            ],
            [
             0.7777777777777778,
             "#fb9f3a"
            ],
            [
             0.8888888888888888,
             "#fdca26"
            ],
            [
             1,
             "#f0f921"
            ]
           ]
          },
          "colorway": [
           "#636efa",
           "#EF553B",
           "#00cc96",
           "#ab63fa",
           "#FFA15A",
           "#19d3f3",
           "#FF6692",
           "#B6E880",
           "#FF97FF",
           "#FECB52"
          ],
          "font": {
           "color": "#2a3f5f"
          },
          "geo": {
           "bgcolor": "white",
           "lakecolor": "white",
           "landcolor": "#E5ECF6",
           "showlakes": true,
           "showland": true,
           "subunitcolor": "white"
          },
          "hoverlabel": {
           "align": "left"
          },
          "hovermode": "closest",
          "mapbox": {
           "style": "light"
          },
          "paper_bgcolor": "white",
          "plot_bgcolor": "#E5ECF6",
          "polar": {
           "angularaxis": {
            "gridcolor": "white",
            "linecolor": "white",
            "ticks": ""
           },
           "bgcolor": "#E5ECF6",
           "radialaxis": {
            "gridcolor": "white",
            "linecolor": "white",
            "ticks": ""
           }
          },
          "scene": {
           "xaxis": {
            "backgroundcolor": "#E5ECF6",
            "gridcolor": "white",
            "gridwidth": 2,
            "linecolor": "white",
            "showbackground": true,
            "ticks": "",
            "zerolinecolor": "white"
           },
           "yaxis": {
            "backgroundcolor": "#E5ECF6",
            "gridcolor": "white",
            "gridwidth": 2,
            "linecolor": "white",
            "showbackground": true,
            "ticks": "",
            "zerolinecolor": "white"
           },
           "zaxis": {
            "backgroundcolor": "#E5ECF6",
            "gridcolor": "white",
            "gridwidth": 2,
            "linecolor": "white",
            "showbackground": true,
            "ticks": "",
            "zerolinecolor": "white"
           }
          },
          "shapedefaults": {
           "line": {
            "color": "#2a3f5f"
           }
          },
          "ternary": {
           "aaxis": {
            "gridcolor": "white",
            "linecolor": "white",
            "ticks": ""
           },
           "baxis": {
            "gridcolor": "white",
            "linecolor": "white",
            "ticks": ""
           },
           "bgcolor": "#E5ECF6",
           "caxis": {
            "gridcolor": "white",
            "linecolor": "white",
            "ticks": ""
           }
          },
          "title": {
           "x": 0.05
          },
          "xaxis": {
           "automargin": true,
           "gridcolor": "white",
           "linecolor": "white",
           "ticks": "",
           "title": {
            "standoff": 15
           },
           "zerolinecolor": "white",
           "zerolinewidth": 2
          },
          "yaxis": {
           "automargin": true,
           "gridcolor": "white",
           "linecolor": "white",
           "ticks": "",
           "title": {
            "standoff": 15
           },
           "zerolinecolor": "white",
           "zerolinewidth": 2
          }
         }
        },
        "title": {
         "text": "COVID-19 recoveries (5/21/20)"
        }
       }
      }
     },
     "metadata": {},
     "output_type": "display_data"
    }
   ],
   "source": [
    "date = series[120][\"date\"]\n",
    "plot_series = series[120][\"recovered_series\"]\n",
    "values = plot_series.iloc[:,-1]\n",
    "\n",
    "fig = px.scatter_geo(\n",
    "    plot_series,\n",
    "    lat = \"Lat\",\n",
    "    lon = \"Long\",\n",
    "    text = values,\n",
    ")\n",
    "fig.update_layout(\n",
    "    font_color = \"rgb(240,240,240)\",\n",
    "    title = \"COVID-19 recoveries (\" + date + \")\",\n",
    "    paper_bgcolor = \"rgb(60,60,60)\",\n",
    "    geo_scope = \"world\",\n",
    "    geo_showland = True,\n",
    "    geo_showcountries = True,\n",
    "    geo_bgcolor = \"rgb(90,90,90)\",\n",
    "    geo_landcolor = \"rgb(250,250,250)\",\n",
    ")\n",
    "fig.update_traces(\n",
    "    name = \"Recovered\",\n",
    "    mode = \"markers\",\n",
    "    geo = \"geo\",\n",
    "    hovertemplate = \"%{text}\",\n",
    "    marker_symbol = \"diamond\",\n",
    "    marker_color = \"#DC7633\",\n",
    ")\n",
    "fig.show()"
   ]
  },
  {
   "cell_type": "code",
   "execution_count": null,
   "metadata": {},
   "outputs": [],
   "source": []
  }
 ],
 "metadata": {
  "kernelspec": {
   "display_name": "Python 3 (ipykernel)",
   "language": "python",
   "name": "python3"
  },
  "language_info": {
   "codemirror_mode": {
    "name": "ipython",
    "version": 3
   },
   "file_extension": ".py",
   "mimetype": "text/x-python",
   "name": "python",
   "nbconvert_exporter": "python",
   "pygments_lexer": "ipython3",
   "version": "3.10.8"
  },
  "vscode": {
   "interpreter": {
    "hash": "5dc1943e2db49e1aa375b457ec3533862880c13c3a5ebce4f8aa8902ede9dceb"
   }
  }
 },
 "nbformat": 4,
 "nbformat_minor": 2
}
